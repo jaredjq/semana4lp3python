{
  "nbformat": 4,
  "nbformat_minor": 0,
  "metadata": {
    "colab": {
      "provenance": [],
      "authorship_tag": "ABX9TyMqvccyblrT9CB4pUjSQtjk",
      "include_colab_link": true
    },
    "kernelspec": {
      "name": "python3",
      "display_name": "Python 3"
    },
    "language_info": {
      "name": "python"
    }
  },
  "cells": [
    {
      "cell_type": "markdown",
      "metadata": {
        "id": "view-in-github",
        "colab_type": "text"
      },
      "source": [
        "<a href=\"https://colab.research.google.com/github/jaredjq/semana4lp3python/blob/main/Semana04_05.ipynb\" target=\"_parent\"><img src=\"https://colab.research.google.com/assets/colab-badge.svg\" alt=\"Open In Colab\"/></a>"
      ]
    },
    {
      "cell_type": "code",
      "execution_count": null,
      "metadata": {
        "id": "Ze2sGI3Fd9L0"
      },
      "outputs": [],
      "source": []
    },
    {
      "cell_type": "markdown",
      "source": [
        "#Semana 5\n",
        "1. Numeros\n",
        "2. Variables\n",
        "3. Manejo de Cadenas\n",
        "4. Ingreso por teclado\n",
        "5. Operadores"
      ],
      "metadata": {
        "id": "T4Prq0WEeCin"
      }
    },
    {
      "cell_type": "code",
      "source": [],
      "metadata": {
        "id": "MeRx8YAyeKcl"
      },
      "execution_count": null,
      "outputs": []
    },
    {
      "cell_type": "markdown",
      "source": [
        "#5. Operadores"
      ],
      "metadata": {
        "id": "S_-jzjS2eLvH"
      }
    },
    {
      "cell_type": "code",
      "source": [
        "numero1 = 10\n",
        "numero2 = 3\n",
        "suma = numero1 + numero2\n",
        "resta = numero1 - numero2\n",
        "division = numero1 /numero2\n",
        "multiplicacion = numero1 * numero2\n",
        "potencia = numero1 ** numero2\n",
        "cociente = numero1 // numero2\n",
        "residuo = numero1 % numero2\n",
        "print(f\"{suma},{resta},{division:1.1f},{multiplicacion},{potencia},{cociente},{residuo}\")"
      ],
      "metadata": {
        "colab": {
          "base_uri": "https://localhost:8080/"
        },
        "id": "quSjhu63eOPe",
        "outputId": "165e6e6e-98cf-4324-e0d9-b6a08c77dc2f"
      },
      "execution_count": null,
      "outputs": [
        {
          "output_type": "stream",
          "name": "stdout",
          "text": [
            "13,7,3.3,30,1000,3,1\n"
          ]
        }
      ]
    },
    {
      "cell_type": "code",
      "source": [],
      "metadata": {
        "id": "CMYfQtP2emYt"
      },
      "execution_count": null,
      "outputs": []
    }
  ]
}