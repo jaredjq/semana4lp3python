{
  "cells": [
    {
      "cell_type": "markdown",
      "metadata": {
        "id": "view-in-github",
        "colab_type": "text"
      },
      "source": [
        "<a href=\"https://colab.research.google.com/github/jaredjq/semana4lp3python/blob/main/Semana04_04.ipynb\" target=\"_parent\"><img src=\"https://colab.research.google.com/assets/colab-badge.svg\" alt=\"Open In Colab\"/></a>"
      ]
    },
    {
      "cell_type": "markdown",
      "id": "aa9c16e4",
      "metadata": {
        "id": "aa9c16e4"
      },
      "source": [
        "# Semana 04\n",
        "Mg. Flor Elizabeth Cerdán León"
      ]
    },
    {
      "cell_type": "markdown",
      "id": "14e0a73c",
      "metadata": {
        "id": "14e0a73c"
      },
      "source": [
        "Temas:\n",
        "\n",
        "1. Números,\n",
        "2. Variables,\n",
        "3. Manejo de Cadenas,\n",
        "4. Ingreso de datos por teclado\n",
        "5. Operadores"
      ]
    },
    {
      "cell_type": "markdown",
      "id": "0ba4ef85",
      "metadata": {
        "id": "0ba4ef85"
      },
      "source": [
        "4. Ingreso de datos por teclado"
      ]
    },
    {
      "cell_type": "code",
      "execution_count": null,
      "id": "e1d66fc6",
      "metadata": {
        "id": "e1d66fc6",
        "outputId": "a63fd4ed-6c74-4036-e62f-32effeb9ac9d",
        "colab": {
          "base_uri": "https://localhost:8080/"
        }
      },
      "outputs": [
        {
          "output_type": "stream",
          "name": "stdout",
          "text": [
            "¿Cual es tu nombre?\n",
            "jared\n",
            "Hola jared\n"
          ]
        }
      ],
      "source": [
        "# Función input()\n",
        "print(\"¿Cual es tu nombre?\")\n",
        "nombre = input()\n",
        "print(\"Hola \" + nombre)"
      ]
    },
    {
      "cell_type": "code",
      "execution_count": null,
      "id": "fede4e9e",
      "metadata": {
        "id": "fede4e9e",
        "outputId": "3b4d0910-7087-41d5-9c4a-092b66f3343c"
      },
      "outputs": [
        {
          "name": "stdout",
          "output_type": "stream",
          "text": [
            "número 1: \n",
            "78\n",
            "número 2: \n",
            "12\n",
            "El resultado es 90\n"
          ]
        }
      ],
      "source": [
        "# Cuando ingresa un valor por teclado lo hace como cadena\n",
        "print(\"número 1: \")\n",
        "numero1 = input()\n",
        "print(\"número 2: \")\n",
        "numero2 = input()\n",
        "numero3 = int(numero1) + int(numero2)\n",
        "print(f\"El resultado es {numero3}\")"
      ]
    },
    {
      "cell_type": "code",
      "execution_count": null,
      "id": "89b87c97",
      "metadata": {
        "id": "89b87c97"
      },
      "outputs": [],
      "source": []
    }
  ],
  "metadata": {
    "kernelspec": {
      "display_name": "Python 3 (ipykernel)",
      "language": "python",
      "name": "python3"
    },
    "language_info": {
      "codemirror_mode": {
        "name": "ipython",
        "version": 3
      },
      "file_extension": ".py",
      "mimetype": "text/x-python",
      "name": "python",
      "nbconvert_exporter": "python",
      "pygments_lexer": "ipython3",
      "version": "3.9.12"
    },
    "colab": {
      "provenance": [],
      "include_colab_link": true
    }
  },
  "nbformat": 4,
  "nbformat_minor": 5
}