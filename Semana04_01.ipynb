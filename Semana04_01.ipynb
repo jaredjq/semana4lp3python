{
  "cells": [
    {
      "cell_type": "markdown",
      "metadata": {
        "id": "view-in-github",
        "colab_type": "text"
      },
      "source": [
        "<a href=\"https://colab.research.google.com/github/jaredjq/semana4lp3python/blob/main/Semana04_01.ipynb\" target=\"_parent\"><img src=\"https://colab.research.google.com/assets/colab-badge.svg\" alt=\"Open In Colab\"/></a>"
      ]
    },
    {
      "cell_type": "markdown",
      "id": "1a1f14f0",
      "metadata": {
        "id": "1a1f14f0"
      },
      "source": [
        "# SEMANA 04\n",
        "Mg. Flor Elizabeth Cerdán León"
      ]
    },
    {
      "cell_type": "raw",
      "id": "6de4bb19",
      "metadata": {
        "id": "6de4bb19"
      },
      "source": [
        "Agenda\n",
        "1. Números\n",
        "2. Variables\n",
        "3. Manejo de Cadenas\n",
        "4. Ingreso por el Teclado\n",
        "5. Operadores"
      ]
    },
    {
      "cell_type": "markdown",
      "id": "a0c7e5c0",
      "metadata": {
        "id": "a0c7e5c0"
      },
      "source": [
        "1. Números"
      ]
    },
    {
      "cell_type": "code",
      "execution_count": null,
      "id": "919eeb15",
      "metadata": {
        "id": "919eeb15",
        "outputId": "b8d95aad-6af4-4843-a638-114390c20c46"
      },
      "outputs": [
        {
          "data": {
            "text/plain": [
              "16"
            ]
          },
          "execution_count": 3,
          "metadata": {},
          "output_type": "execute_result"
        }
      ],
      "source": [
        "7+9"
      ]
    },
    {
      "cell_type": "code",
      "execution_count": null,
      "id": "3c009bc3",
      "metadata": {
        "id": "3c009bc3",
        "outputId": "7603d0c4-2495-43ff-e7fe-8df49f968760"
      },
      "outputs": [
        {
          "data": {
            "text/plain": [
              "11"
            ]
          },
          "execution_count": 4,
          "metadata": {},
          "output_type": "execute_result"
        }
      ],
      "source": [
        "36-25"
      ]
    },
    {
      "cell_type": "code",
      "execution_count": null,
      "id": "d52a40f6",
      "metadata": {
        "id": "d52a40f6",
        "outputId": "ba77b00d-4e16-47e6-fc7a-353336677b74"
      },
      "outputs": [
        {
          "data": {
            "text/plain": [
              "280"
            ]
          },
          "execution_count": 5,
          "metadata": {},
          "output_type": "execute_result"
        }
      ],
      "source": [
        "35*8"
      ]
    },
    {
      "cell_type": "code",
      "execution_count": null,
      "id": "5d643ea6",
      "metadata": {
        "id": "5d643ea6",
        "outputId": "5910cca0-e112-4779-ebbf-786696f8b173"
      },
      "outputs": [
        {
          "data": {
            "text/plain": [
              "8.0"
            ]
          },
          "execution_count": 6,
          "metadata": {},
          "output_type": "execute_result"
        }
      ],
      "source": [
        "72/9"
      ]
    }
  ],
  "metadata": {
    "kernelspec": {
      "display_name": "Python 3 (ipykernel)",
      "language": "python",
      "name": "python3"
    },
    "language_info": {
      "codemirror_mode": {
        "name": "ipython",
        "version": 3
      },
      "file_extension": ".py",
      "mimetype": "text/x-python",
      "name": "python",
      "nbconvert_exporter": "python",
      "pygments_lexer": "ipython3",
      "version": "3.9.12"
    },
    "colab": {
      "provenance": [],
      "include_colab_link": true
    }
  },
  "nbformat": 4,
  "nbformat_minor": 5
}