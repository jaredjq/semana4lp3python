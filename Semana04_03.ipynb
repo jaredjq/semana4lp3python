{
  "nbformat": 4,
  "nbformat_minor": 0,
  "metadata": {
    "colab": {
      "provenance": [],
      "authorship_tag": "ABX9TyOqmhQqJqa2bSPu/A8RQv+1",
      "include_colab_link": true
    },
    "kernelspec": {
      "name": "python3",
      "display_name": "Python 3"
    },
    "language_info": {
      "name": "python"
    }
  },
  "cells": [
    {
      "cell_type": "markdown",
      "metadata": {
        "id": "view-in-github",
        "colab_type": "text"
      },
      "source": [
        "<a href=\"https://colab.research.google.com/github/jaredjq/semana4lp3python/blob/main/Semana04_03.ipynb\" target=\"_parent\"><img src=\"https://colab.research.google.com/assets/colab-badge.svg\" alt=\"Open In Colab\"/></a>"
      ]
    },
    {
      "cell_type": "code",
      "execution_count": null,
      "metadata": {
        "id": "pGRx4b_FSljN"
      },
      "outputs": [],
      "source": []
    },
    {
      "cell_type": "markdown",
      "source": [
        "# Semana 04\n",
        "MG. Flor Elizabeth Cerdan Leon\n",
        "# Agendas\n",
        "1. Numeros\n",
        "2. Variables\n",
        "4. Manejo de Cadenas\n",
        "3. Ingreso por teclado\n",
        "5. Operadores"
      ],
      "metadata": {
        "id": "ZvwaXxqLS9yY"
      }
    },
    {
      "cell_type": "markdown",
      "source": [
        "Manejo de cadenas"
      ],
      "metadata": {
        "id": "GbtEASknTFxE"
      }
    },
    {
      "cell_type": "code",
      "source": [
        "cadena = \"Universidad Tecnologica de Lima Sur\""
      ],
      "metadata": {
        "id": "wQLFYpStTU8B"
      },
      "execution_count": null,
      "outputs": []
    },
    {
      "cell_type": "code",
      "source": [
        "cadena"
      ],
      "metadata": {
        "colab": {
          "base_uri": "https://localhost:8080/",
          "height": 35
        },
        "id": "vkMf2qvJTR7p",
        "outputId": "18c766df-d329-450e-e9f1-ae8212c4b3ca"
      },
      "execution_count": null,
      "outputs": [
        {
          "output_type": "execute_result",
          "data": {
            "text/plain": [
              "'Universidad Tecnologica de Lima Sur'"
            ],
            "application/vnd.google.colaboratory.intrinsic+json": {
              "type": "string"
            }
          },
          "metadata": {},
          "execution_count": 2
        }
      ]
    },
    {
      "cell_type": "code",
      "source": [
        "#Universidad Nacional Tecnologica de Lima Sur\n",
        "#012345..........\n",
        "#                                        -2  -1"
      ],
      "metadata": {
        "id": "9MqpbqfGTSHZ"
      },
      "execution_count": null,
      "outputs": []
    },
    {
      "cell_type": "code",
      "source": [
        "cadena[11]"
      ],
      "metadata": {
        "colab": {
          "base_uri": "https://localhost:8080/",
          "height": 35
        },
        "id": "5X0KGHWoTShJ",
        "outputId": "ac61edec-96a4-40e5-f4c9-ab3dea4ed98e"
      },
      "execution_count": null,
      "outputs": [
        {
          "output_type": "execute_result",
          "data": {
            "text/plain": [
              "' '"
            ],
            "application/vnd.google.colaboratory.intrinsic+json": {
              "type": "string"
            }
          },
          "metadata": {},
          "execution_count": 4
        }
      ]
    },
    {
      "cell_type": "code",
      "source": [
        "cadena[5]"
      ],
      "metadata": {
        "colab": {
          "base_uri": "https://localhost:8080/",
          "height": 35
        },
        "id": "KMYx7RMBTSrJ",
        "outputId": "ec5ac005-f943-4027-8574-fda8d749d1a7"
      },
      "execution_count": null,
      "outputs": [
        {
          "output_type": "execute_result",
          "data": {
            "text/plain": [
              "'r'"
            ],
            "application/vnd.google.colaboratory.intrinsic+json": {
              "type": "string"
            }
          },
          "metadata": {},
          "execution_count": 5
        }
      ]
    },
    {
      "cell_type": "code",
      "source": [
        "cadena[-5]"
      ],
      "metadata": {
        "colab": {
          "base_uri": "https://localhost:8080/",
          "height": 35
        },
        "id": "lXEc10hCTSy5",
        "outputId": "0f232232-08d9-44b3-b59d-575e16201952"
      },
      "execution_count": null,
      "outputs": [
        {
          "output_type": "execute_result",
          "data": {
            "text/plain": [
              "'a'"
            ],
            "application/vnd.google.colaboratory.intrinsic+json": {
              "type": "string"
            }
          },
          "metadata": {},
          "execution_count": 6
        }
      ]
    },
    {
      "cell_type": "code",
      "source": [
        "\"\"\"\n",
        " Para mostrar una subcadena [desde, hasta una antes]\n",
        " en java era substring()\n",
        "\"\"\""
      ],
      "metadata": {
        "colab": {
          "base_uri": "https://localhost:8080/",
          "height": 35
        },
        "id": "CpDoaJreTS5Z",
        "outputId": "5a5c3688-dfc6-4e55-f618-13d123b19116"
      },
      "execution_count": null,
      "outputs": [
        {
          "output_type": "execute_result",
          "data": {
            "text/plain": [
              "'\\n Para mostrar una subcadena [desde, hasta una antes]\\n en java era substring()\\n'"
            ],
            "application/vnd.google.colaboratory.intrinsic+json": {
              "type": "string"
            }
          },
          "metadata": {},
          "execution_count": 7
        }
      ]
    },
    {
      "cell_type": "code",
      "source": [
        "# Tamaño de mi cadena incluye espacios en blanco\n",
        "len(cadena)"
      ],
      "metadata": {
        "colab": {
          "base_uri": "https://localhost:8080/"
        },
        "id": "BsHm7I33TTDZ",
        "outputId": "d1b738d3-9b89-4395-b63a-c51059be4810"
      },
      "execution_count": null,
      "outputs": [
        {
          "output_type": "execute_result",
          "data": {
            "text/plain": [
              "35"
            ]
          },
          "metadata": {},
          "execution_count": 9
        }
      ]
    },
    {
      "cell_type": "code",
      "source": [
        "cadena[3:8]"
      ],
      "metadata": {
        "colab": {
          "base_uri": "https://localhost:8080/",
          "height": 35
        },
        "id": "cH_QY00ATS-q",
        "outputId": "5b7bfeb3-7a6d-417f-ca17-7c60cc51e998"
      },
      "execution_count": null,
      "outputs": [
        {
          "output_type": "execute_result",
          "data": {
            "text/plain": [
              "'versi'"
            ],
            "application/vnd.google.colaboratory.intrinsic+json": {
              "type": "string"
            }
          },
          "metadata": {},
          "execution_count": 8
        }
      ]
    },
    {
      "cell_type": "code",
      "source": [
        "cadena[-3:]"
      ],
      "metadata": {
        "colab": {
          "base_uri": "https://localhost:8080/",
          "height": 35
        },
        "id": "T-4NvjHqVmdn",
        "outputId": "c8049dd9-08ba-410f-ba95-1bb273a76589"
      },
      "execution_count": null,
      "outputs": [
        {
          "output_type": "execute_result",
          "data": {
            "text/plain": [
              "'Sur'"
            ],
            "application/vnd.google.colaboratory.intrinsic+json": {
              "type": "string"
            }
          },
          "metadata": {},
          "execution_count": 25
        }
      ]
    },
    {
      "cell_type": "code",
      "source": [
        "#para mostrar una caena en mayuscula utilizamos upper()\n",
        "cadena.upper()"
      ],
      "metadata": {
        "colab": {
          "base_uri": "https://localhost:8080/",
          "height": 35
        },
        "id": "AZ2nu_qwTTHJ",
        "outputId": "e00f5185-237c-4a37-fd03-3e7ea45287a0"
      },
      "execution_count": null,
      "outputs": [
        {
          "output_type": "execute_result",
          "data": {
            "text/plain": [
              "'UNIVERSIDAD TECNOLOGICA DE LIMA SUR'"
            ],
            "application/vnd.google.colaboratory.intrinsic+json": {
              "type": "string"
            }
          },
          "metadata": {},
          "execution_count": 10
        }
      ]
    },
    {
      "cell_type": "code",
      "source": [
        "cadena.lower()"
      ],
      "metadata": {
        "colab": {
          "base_uri": "https://localhost:8080/",
          "height": 35
        },
        "id": "sgN0no-vTTK6",
        "outputId": "6e6ee652-1e2b-42b4-c8cd-5b72691edf34"
      },
      "execution_count": null,
      "outputs": [
        {
          "output_type": "execute_result",
          "data": {
            "text/plain": [
              "'universidad tecnologica de lima sur'"
            ],
            "application/vnd.google.colaboratory.intrinsic+json": {
              "type": "string"
            }
          },
          "metadata": {},
          "execution_count": 11
        }
      ]
    },
    {
      "cell_type": "code",
      "source": [
        "cadena"
      ],
      "metadata": {
        "colab": {
          "base_uri": "https://localhost:8080/",
          "height": 35
        },
        "id": "ltfpCUY2VO9-",
        "outputId": "47a6ce3d-a83a-481f-82c0-38d9b03419d3"
      },
      "execution_count": null,
      "outputs": [
        {
          "output_type": "execute_result",
          "data": {
            "text/plain": [
              "'Universidad Tecnologica de Lima Sur'"
            ],
            "application/vnd.google.colaboratory.intrinsic+json": {
              "type": "string"
            }
          },
          "metadata": {},
          "execution_count": 12
        }
      ]
    },
    {
      "cell_type": "code",
      "source": [
        "#cgenera una lista a partir de una cadena.split\n",
        "cadena.split(\" \")"
      ],
      "metadata": {
        "colab": {
          "base_uri": "https://localhost:8080/"
        },
        "id": "_usYz6g7VQMt",
        "outputId": "1364e98a-09f7-464c-decb-3a0273d4075d"
      },
      "execution_count": null,
      "outputs": [
        {
          "output_type": "execute_result",
          "data": {
            "text/plain": [
              "['Universidad', 'Tecnologica', 'de', 'Lima', 'Sur']"
            ]
          },
          "metadata": {},
          "execution_count": 28
        }
      ]
    },
    {
      "cell_type": "code",
      "source": [
        "# formato con .format()\n",
        "nombrecompleto = \"Jared Jimenez Quispe\"\n",
        "edad = 24\n",
        "print(\"hola {} tu tienes {} años\".format(nombrecompleto, edad))"
      ],
      "metadata": {
        "colab": {
          "base_uri": "https://localhost:8080/"
        },
        "id": "rjWmu2IqVRwN",
        "outputId": "e5ea9719-df07-4672-8a49-938222a02284"
      },
      "execution_count": null,
      "outputs": [
        {
          "output_type": "stream",
          "name": "stdout",
          "text": [
            "hola Jared Jimenez Quispe tu tienes 24 años\n"
          ]
        }
      ]
    },
    {
      "cell_type": "code",
      "source": [
        "# formato con .format() condecimales limitados\n",
        "resultado = 10/3\n",
        "print(\"10/3 es = {}\".format(resultado))\n",
        "print(\"10/3 es = {r:1.3f}\".format(r=resultado))"
      ],
      "metadata": {
        "colab": {
          "base_uri": "https://localhost:8080/"
        },
        "id": "Ev_PI28PXovH",
        "outputId": "a70c591f-bed4-4d1a-f3aa-6c0dc8edd424"
      },
      "execution_count": null,
      "outputs": [
        {
          "output_type": "stream",
          "name": "stdout",
          "text": [
            "10/3 es = 3.3333333333333335\n",
            "10/3 es = 3.333\n"
          ]
        }
      ]
    },
    {
      "cell_type": "code",
      "source": [
        "# formato con f\n",
        "nombre = \"Jared Jimenez Quispe\"\n",
        "edad = 24\n",
        "print(f\"Buenos dias {nombre}, ya se que tienes {edad} años\")"
      ],
      "metadata": {
        "colab": {
          "base_uri": "https://localhost:8080/"
        },
        "id": "_W83LRKHXpJ3",
        "outputId": "0ee16f48-ae7b-45d6-c5da-5dda324bb614"
      },
      "execution_count": null,
      "outputs": [
        {
          "output_type": "stream",
          "name": "stdout",
          "text": [
            "Buenos dias Jared Jimenez Quispe, ya se que tienes 24 años\n"
          ]
        }
      ]
    },
    {
      "cell_type": "code",
      "source": [
        "# formato con f con decimales\n",
        "resultado = 10/3\n",
        "print(f\"10/3 es = {resultado} \")\n",
        "print(f\"10/3 es = {resultado:1.2f} \")"
      ],
      "metadata": {
        "colab": {
          "base_uri": "https://localhost:8080/"
        },
        "id": "y3dqxcHVXpRH",
        "outputId": "70c58a55-a27f-45f1-d583-c99f2fe2450f"
      },
      "execution_count": null,
      "outputs": [
        {
          "output_type": "stream",
          "name": "stdout",
          "text": [
            "10/3 es = 3.3333333333333335 \n",
            "10/3 es = 3.33 \n"
          ]
        }
      ]
    },
    {
      "cell_type": "code",
      "source": [
        "nombre = input(\"Cual es tu name?: \")\n",
        "print(\"Hola \"+ nombre)"
      ],
      "metadata": {
        "colab": {
          "base_uri": "https://localhost:8080/"
        },
        "id": "ObJCcPp3XpX4",
        "outputId": "559c19e3-ce7a-4bab-a537-7615bc02e573"
      },
      "execution_count": null,
      "outputs": [
        {
          "output_type": "stream",
          "name": "stdout",
          "text": [
            "Cual es tu name?: jared\n",
            "Hola jared\n"
          ]
        }
      ]
    },
    {
      "cell_type": "code",
      "source": [
        "type(nombre)"
      ],
      "metadata": {
        "colab": {
          "base_uri": "https://localhost:8080/"
        },
        "id": "kDMlOctyXpeX",
        "outputId": "cf96facc-2e52-440c-9b2a-cec1e45d3d10"
      },
      "execution_count": null,
      "outputs": [
        {
          "output_type": "execute_result",
          "data": {
            "text/plain": [
              "str"
            ]
          },
          "metadata": {},
          "execution_count": 38
        }
      ]
    },
    {
      "cell_type": "code",
      "source": [
        "n1 = input(\"numero 1: \")\n",
        "n2 = input(\"numero 2: \")\n",
        "n3 = int(n1) + int(n2)\n",
        "print(\"El resultado es :\",n3)"
      ],
      "metadata": {
        "colab": {
          "base_uri": "https://localhost:8080/"
        },
        "id": "sypDIYdHXpkI",
        "outputId": "3cd526b4-53a6-4767-d01a-f734f0e540e3"
      },
      "execution_count": null,
      "outputs": [
        {
          "output_type": "stream",
          "name": "stdout",
          "text": [
            "numero 1: 12\n",
            "numero 2: 243\n",
            "El resultado es : 255\n"
          ]
        }
      ]
    },
    {
      "cell_type": "code",
      "source": [
        "2"
      ],
      "metadata": {
        "id": "4prQmx9CXpp4"
      },
      "execution_count": null,
      "outputs": []
    },
    {
      "cell_type": "code",
      "source": [],
      "metadata": {
        "id": "EKeQ7AkBXpwI"
      },
      "execution_count": null,
      "outputs": []
    }
  ]
}